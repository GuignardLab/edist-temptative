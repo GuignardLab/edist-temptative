{
 "cells": [
  {
   "cell_type": "markdown",
   "metadata": {},
   "source": [
    "## Sequence Edit Distance/Levenshtein Distance\n",
    "\n",
    "The [Levenshtein distance](https://en.wikipedia.org/wiki/Levenshtein_distance) is an algorithm originally devised to compute the distance between strings by counting the number of character replacements, deletions, and insertions it would take to transform one string into another. Consider the strings 'airplane' and 'inline', for example. The Levenshtein distance between these is 4 because we can delete the first 'a' and 'p' in 'airplane', replace the 'r' with an 'n' and the second 'a' with an 'i' and we obtain 'inline'."
   ]
  },
  {
   "cell_type": "code",
   "execution_count": 1,
   "metadata": {},
   "outputs": [
    {
     "name": "stdout",
     "output_type": "stream",
     "text": [
      "The string edit distance between \"airplane\" and \"inline\" is 4\n"
     ]
    }
   ],
   "source": [
    "import edist.sed as sed\n",
    "x = 'airplane'\n",
    "y = 'inline'\n",
    "print('The string edit distance between \"%s\" and \"%s\" is %d' % (x, y, sed.standard_sed(x, y)))"
   ]
  },
  {
   "cell_type": "markdown",
   "metadata": {},
   "source": [
    "We can also use backtracing to show which character of 'airplane' has been aligned with which character of 'inline'."
   ]
  },
  {
   "cell_type": "code",
   "execution_count": 2,
   "metadata": {},
   "outputs": [
    {
     "name": "stdout",
     "output_type": "stream",
     "text": [
      "a [0] vs. -\n",
      "i [1] vs. i [0]\n",
      "r [2] vs. n [1]\n",
      "p [3] vs. -\n",
      "l [4] vs. l [2]\n",
      "a [5] vs. i [3]\n",
      "n [6] vs. n [4]\n",
      "e [7] vs. e [5]\n"
     ]
    }
   ],
   "source": [
    "alignment = sed.standard_sed_backtrace(x, y)\n",
    "print(alignment.render(x, y))"
   ]
  },
  {
   "cell_type": "markdown",
   "metadata": {},
   "source": [
    "And we can use the 'edits' module to find out which edit operations we have to apply to get from 'airplane' to 'inline'."
   ]
  },
  {
   "cell_type": "code",
   "execution_count": 3,
   "metadata": {},
   "outputs": [
    {
     "name": "stdout",
     "output_type": "stream",
     "text": [
      "The following edits transform airplane to inline: [rep(2, n), rep(5, i), del(3), del(0)]\n"
     ]
    }
   ],
   "source": [
    "import edist.edits as edits\n",
    "script = edits.alignment_to_script(alignment, x, y)\n",
    "# note that scripts can only be applied to lists, so we have to convert\n",
    "# the input string to a list first and then the output list back to a string\n",
    "x_result = ''.join(script.apply(list(x)))\n",
    "print('The following edits transform %s to %s: %s' % (x, x_result, str(script)))"
   ]
  },
  {
   "cell_type": "markdown",
   "metadata": {},
   "source": [
    "However, the principle of the sequence edit distance is much more general than that. We can also apply the sequence edit distance to entirely different kinds of sequence data, as long as we are able to define a meaningful distance function between frames. Consider the following two music motifs, for example."
   ]
  },
  {
   "cell_type": "code",
   "execution_count": 4,
   "metadata": {},
   "outputs": [
    {
     "name": "stdout",
     "output_type": "stream",
     "text": [
      "The edit distance between the musical motifs is 4.46505\n",
      "The following notes get aligned\n",
      "('e', 0.0625) [0] vs. ('gsharp', 0.08333333333333333) [0]\n",
      "('dsharp', 0.0625) [1] vs. ('csharp', 0.08333333333333333) [1]\n",
      "('e', 0.0625) [2] vs. ('e', 0.08333333333333333) [2]\n",
      "- vs. ('gsharp', 0.08333333333333333) [3]\n",
      "('dsharp', 0.0625) [3] vs. ('csharp', 0.08333333333333333) [4]\n",
      "('e', 0.0625) [4] vs. ('e', 0.08333333333333333) [5]\n",
      "('b', 0.0625) [5] vs. ('gsharp', 0.08333333333333333) [6]\n",
      "('d', 0.0625) [6] vs. ('csharp', 0.08333333333333333) [7]\n",
      "('c', 0.0625) [7] vs. ('e', 0.08333333333333333) [8]\n",
      "- vs. ('gsharp', 0.08333333333333333) [9]\n",
      "('c', 0.0625) [8] vs. ('csharp', 0.08333333333333333) [10]\n",
      "- vs. ('e', 0.08333333333333333) [11]\n"
     ]
    }
   ],
   "source": [
    "x = [('e', 1. / 16.), ('dsharp', 1. / 16.), ('e', 1. / 16.), ('dsharp', 1. / 16.), ('e', 1. / 16.), ('b', 1. / 16.), ('d', 1. / 16.), ('c', 1. / 16.), ('c', 1. / 16.)]\n",
    "y = [('gsharp', 1. / 12.), ('csharp', 1. / 12.), ('e', 1. / 12.), ('gsharp', 1. / 12.), ('csharp', 1. / 12.), ('e', 1. / 12.), ('gsharp', 1. / 12.), ('csharp', 1. / 12.), ('e', 1. / 12.), ('gsharp', 1. / 12.), ('csharp', 1. / 12.), ('e', 1. / 12.)]\n",
    "\n",
    "# define a distance function on notes\n",
    "notes = ['c', 'csharp', 'd', 'dsharp', 'e', 'f', 'fsharp', 'g', 'gsharp', 'a', 'asharp', 'b']\n",
    "min_duration = 1. / 32.\n",
    "max_duration = 1.\n",
    "def note_delta(x, y):\n",
    "    if(x is None or y is None):\n",
    "        return 1.\n",
    "    x_pitch = notes.index(x[0])\n",
    "    y_pitch = notes.index(y[0])\n",
    "    # use the clock distance to get distance between pitches\n",
    "    pitch_dist = abs(x_pitch - y_pitch)\n",
    "    pitch_dist = min(pitch_dist, len(notes) - pitch_dist)\n",
    "    # normalize to get value in the range 0 - 0.5\n",
    "    pitch_dist /= len(notes)\n",
    "    # and use the ratio as distance measure between durations\n",
    "    duration_dist = max(x[1] / y[1], y[1] / x[1])\n",
    "    # normalize to get value in the range 0 - 0.5\n",
    "    duration_dist -= 1.\n",
    "    duration_dist /= 2. * (max_duration / min_duration - 1.)\n",
    "    # add both values to get a node distance\n",
    "    return pitch_dist + duration_dist\n",
    "\n",
    "# compute the edit distance between both motifs\n",
    "print('The edit distance between the musical motifs is %g' % sed.sed(x, y, note_delta))\n",
    "# compute the alignment\n",
    "print('The following notes get aligned')\n",
    "print(sed.sed_backtrace(x, y, note_delta).render(x, y))"
   ]
  },
  {
   "cell_type": "markdown",
   "metadata": {},
   "source": [
    "### Affine Edit Distance\n",
    "\n",
    "In some circumstances, a simple edit distance is not sufficient and we need to use more complicated edit distances. For example, if we compare long texts, we may wish to ensure that locally fitting subsequences are emphasized and not spread over the text. This is supported by the _affine_ edit distance first defined by [Gotoh (1982)](https://doi.org/10.1016/0022-2836(82)90398-9). In this variation, we make long, subsequent deletions/insertions cheaper."
   ]
  },
  {
   "cell_type": "code",
   "execution_count": 5,
   "metadata": {},
   "outputs": [
    {
     "name": "stdout",
     "output_type": "stream",
     "text": [
      "the regular edit distance between the texts is 6\n",
      "the following characters get aligned\n",
      "a [0] vs. b [0]\n",
      "a [1] vs. b [1]\n",
      "a [2] vs. c [2]\n",
      "b [3] vs. c [3]\n",
      "d [4] vs. -\n",
      "b [5] vs. c [4]\n",
      "the affine edit distance betwen the texts is 5\n",
      "the following characters get aligned\n",
      "del: a [0] vs. -\n",
      "skdel: a [1] vs. -\n",
      "skdel: a [2] vs. -\n",
      "rep: b [3] vs. b [0]\n",
      "del: d [4] vs. -\n",
      "rep: b [5] vs. b [1]\n",
      "ins: - vs. c [2]\n",
      "skins: - vs. c [3]\n",
      "skins: - vs. c [4]\n"
     ]
    }
   ],
   "source": [
    "x = 'aaabdb'\n",
    "y = 'bbccc'\n",
    "\n",
    "import edist.aed as aed\n",
    "\n",
    "print('the regular edit distance between the texts is %g' % sed.standard_sed(x, y))\n",
    "print('the following characters get aligned')\n",
    "print(sed.standard_sed_backtrace_stochastic(x, y).render(x, y))\n",
    "print('the affine edit distance betwen the texts is %g' % aed.aed(x, y))\n",
    "print('the following characters get aligned')\n",
    "print(aed.aed_backtrace(x, y).render(x, y))"
   ]
  },
  {
   "cell_type": "markdown",
   "metadata": {},
   "source": [
    "### Speedup\n",
    "\n",
    "To speed up edit distance computations for large data sets, you can use the multiprocess module. Please consult the dtw_demo for more information."
   ]
  }
 ],
 "metadata": {
  "kernelspec": {
   "display_name": "Python 3",
   "language": "python",
   "name": "python3"
  },
  "language_info": {
   "codemirror_mode": {
    "name": "ipython",
    "version": 3
   },
   "file_extension": ".py",
   "mimetype": "text/x-python",
   "name": "python",
   "nbconvert_exporter": "python",
   "pygments_lexer": "ipython3",
   "version": "3.7.3"
  }
 },
 "nbformat": 4,
 "nbformat_minor": 2
}
